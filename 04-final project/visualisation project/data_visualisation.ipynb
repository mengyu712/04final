{
 "cells": [
  {
   "cell_type": "markdown",
   "metadata": {},
   "source": [
    "## Step 1: Load and Explore the Dataset"
   ]
  },
  {
   "cell_type": "code",
   "execution_count": 1,
   "metadata": {},
   "outputs": [
    {
     "name": "stdout",
     "output_type": "stream",
     "text": [
      "<class 'pandas.core.frame.DataFrame'>\n",
      "RangeIndex: 57101 entries, 0 to 57100\n",
      "Data columns (total 41 columns):\n",
      " #   Column                        Non-Null Count  Dtype  \n",
      "---  ------                        --------------  -----  \n",
      " 0   country                       57101 non-null  object \n",
      " 1   location_name                 57101 non-null  object \n",
      " 2   latitude                      57101 non-null  float64\n",
      " 3   longitude                     57101 non-null  float64\n",
      " 4   timezone                      57101 non-null  object \n",
      " 5   last_updated_epoch            57101 non-null  int64  \n",
      " 6   last_updated                  57101 non-null  object \n",
      " 7   temperature_celsius           57101 non-null  float64\n",
      " 8   temperature_fahrenheit        57101 non-null  float64\n",
      " 9   condition_text                57101 non-null  object \n",
      " 10  wind_mph                      57101 non-null  float64\n",
      " 11  wind_kph                      57101 non-null  float64\n",
      " 12  wind_degree                   57101 non-null  int64  \n",
      " 13  wind_direction                57101 non-null  object \n",
      " 14  pressure_mb                   57101 non-null  float64\n",
      " 15  pressure_in                   57101 non-null  float64\n",
      " 16  precip_mm                     57101 non-null  float64\n",
      " 17  precip_in                     57101 non-null  float64\n",
      " 18  humidity                      57101 non-null  int64  \n",
      " 19  cloud                         57101 non-null  int64  \n",
      " 20  feels_like_celsius            57101 non-null  float64\n",
      " 21  feels_like_fahrenheit         57101 non-null  float64\n",
      " 22  visibility_km                 57101 non-null  float64\n",
      " 23  visibility_miles              57101 non-null  float64\n",
      " 24  uv_index                      57101 non-null  float64\n",
      " 25  gust_mph                      57101 non-null  float64\n",
      " 26  gust_kph                      57101 non-null  float64\n",
      " 27  air_quality_Carbon_Monoxide   57101 non-null  float64\n",
      " 28  air_quality_Ozone             57101 non-null  float64\n",
      " 29  air_quality_Nitrogen_dioxide  57101 non-null  float64\n",
      " 30  air_quality_Sulphur_dioxide   57101 non-null  float64\n",
      " 31  air_quality_PM2.5             57101 non-null  float64\n",
      " 32  air_quality_PM10              57101 non-null  float64\n",
      " 33  air_quality_us-epa-index      57101 non-null  int64  \n",
      " 34  air_quality_gb-defra-index    57101 non-null  int64  \n",
      " 35  sunrise                       57101 non-null  object \n",
      " 36  sunset                        57101 non-null  object \n",
      " 37  moonrise                      57101 non-null  object \n",
      " 38  moonset                       57101 non-null  object \n",
      " 39  moon_phase                    57101 non-null  object \n",
      " 40  moon_illumination             57101 non-null  int64  \n",
      "dtypes: float64(23), int64(7), object(11)\n",
      "memory usage: 17.9+ MB\n"
     ]
    },
    {
     "data": {
      "text/plain": [
       "(None,\n",
       "        country     location_name  latitude  longitude        timezone  \\\n",
       " 0  Afghanistan             Kabul     34.52      69.18      Asia/Kabul   \n",
       " 1      Albania            Tirana     41.33      19.82   Europe/Tirane   \n",
       " 2      Algeria           Algiers     36.76       3.05  Africa/Algiers   \n",
       " 3      Andorra  Andorra La Vella     42.50       1.52  Europe/Andorra   \n",
       " 4       Angola            Luanda     -8.84      13.23   Africa/Luanda   \n",
       " \n",
       "    last_updated_epoch      last_updated  temperature_celsius  \\\n",
       " 0          1715849100  2024-05-16 13:15                 26.6   \n",
       " 1          1715849100  2024-05-16 10:45                 19.0   \n",
       " 2          1715849100  2024-05-16 09:45                 23.0   \n",
       " 3          1715849100  2024-05-16 10:45                  6.3   \n",
       " 4          1715849100  2024-05-16 09:45                 26.0   \n",
       " \n",
       "    temperature_fahrenheit condition_text  ...  air_quality_PM2.5  \\\n",
       " 0                    79.8  Partly Cloudy  ...                8.4   \n",
       " 1                    66.2  Partly cloudy  ...                1.1   \n",
       " 2                    73.4          Sunny  ...               10.4   \n",
       " 3                    43.3  Light drizzle  ...                0.7   \n",
       " 4                    78.8  Partly cloudy  ...              183.4   \n",
       " \n",
       "    air_quality_PM10  air_quality_us-epa-index air_quality_gb-defra-index  \\\n",
       " 0              26.6                         1                          1   \n",
       " 1               2.0                         1                          1   \n",
       " 2              18.4                         1                          1   \n",
       " 3               0.9                         1                          1   \n",
       " 4             262.3                         5                         10   \n",
       " \n",
       "     sunrise    sunset  moonrise   moonset      moon_phase  moon_illumination  \n",
       " 0  04:50 AM  06:50 PM  12:12 PM  01:11 AM  Waxing Gibbous                 55  \n",
       " 1  05:21 AM  07:54 PM  12:58 PM  02:14 AM  Waxing Gibbous                 55  \n",
       " 2  05:40 AM  07:50 PM  01:15 PM  02:14 AM  Waxing Gibbous                 55  \n",
       " 3  06:31 AM  09:11 PM  02:12 PM  03:31 AM  Waxing Gibbous                 55  \n",
       " 4  06:12 AM  05:55 PM  01:17 PM  12:38 AM  Waxing Gibbous                 55  \n",
       " \n",
       " [5 rows x 41 columns])"
      ]
     },
     "execution_count": 1,
     "metadata": {},
     "output_type": "execute_result"
    }
   ],
   "source": [
    "import pandas as pd\n",
    "\n",
    "# Load the dataset\n",
    "file_path = \"./data/GlobalWeatherRepository.csv\"\n",
    "df = pd.read_csv(file_path)\n",
    "\n",
    "# Display basic information and first few rows\n",
    "df.info(), df.head()\n"
   ]
  },
  {
   "cell_type": "markdown",
   "metadata": {},
   "source": [
    "## Step 2: Data Cleaning & Preprocessing"
   ]
  },
  {
   "cell_type": "code",
   "execution_count": 2,
   "metadata": {},
   "outputs": [
    {
     "name": "stdout",
     "output_type": "stream",
     "text": [
      "<class 'pandas.core.frame.DataFrame'>\n",
      "RangeIndex: 57101 entries, 0 to 57100\n",
      "Data columns (total 11 columns):\n",
      " #   Column                    Non-Null Count  Dtype         \n",
      "---  ------                    --------------  -----         \n",
      " 0   country                   57101 non-null  object        \n",
      " 1   location_name             57101 non-null  object        \n",
      " 2   latitude                  57101 non-null  float64       \n",
      " 3   longitude                 57101 non-null  float64       \n",
      " 4   last_updated              57101 non-null  datetime64[ns]\n",
      " 5   temperature_celsius       57101 non-null  float64       \n",
      " 6   wind_kph                  57101 non-null  float64       \n",
      " 7   humidity                  57101 non-null  int64         \n",
      " 8   pressure_mb               57101 non-null  float64       \n",
      " 9   air_quality_us-epa-index  57101 non-null  int64         \n",
      " 10  air_quality_PM2.5         57101 non-null  float64       \n",
      "dtypes: datetime64[ns](1), float64(6), int64(2), object(2)\n",
      "memory usage: 4.8+ MB\n"
     ]
    },
    {
     "data": {
      "text/plain": [
       "(None,\n",
       " country                     0\n",
       " location_name               0\n",
       " latitude                    0\n",
       " longitude                   0\n",
       " last_updated                0\n",
       " temperature_celsius         0\n",
       " wind_kph                    0\n",
       " humidity                    0\n",
       " pressure_mb                 0\n",
       " air_quality_us-epa-index    0\n",
       " air_quality_PM2.5           0\n",
       " dtype: int64)"
      ]
     },
     "execution_count": 2,
     "metadata": {},
     "output_type": "execute_result"
    }
   ],
   "source": [
    "# Convert the 'last_updated' column to datetime format\n",
    "df['last_updated'] = pd.to_datetime(df['last_updated'])\n",
    "\n",
    "# Select relevant columns for visualization\n",
    "df_cleaned = df[['country', 'location_name', 'latitude', 'longitude', 'last_updated',\n",
    "                 'temperature_celsius', 'wind_kph', 'humidity', 'pressure_mb', \n",
    "                 'air_quality_us-epa-index', 'air_quality_PM2.5']]\n",
    "\n",
    "# Check for missing values\n",
    "missing_values = df_cleaned.isnull().sum()\n",
    "\n",
    "# Display cleaned data information\n",
    "df_cleaned.info(), missing_values\n"
   ]
  },
  {
   "cell_type": "markdown",
   "metadata": {},
   "source": [
    "## Step 3: Visualization 1 – Global Temperature Trends"
   ]
  },
  {
   "cell_type": "code",
   "execution_count": 3,
   "metadata": {},
   "outputs": [
    {
     "data": {
      "image/png": "[encoded data removed]",
      "text/plain": [
       "<Figure size 864x432 with 1 Axes>"
      ]
     },
     "metadata": {
      "needs_background": "light"
     },
     "output_type": "display_data"
    }
   ],
   "source": [
    "import matplotlib.pyplot as plt\n",
    "import seaborn as sns\n",
    "\n",
    "# Select data for major cities\n",
    "top_cities = ['New York', 'London', 'Sydney', 'Tokyo', 'Paris']\n",
    "df_temp_trend = df_cleaned[df_cleaned['location_name'].isin(top_cities)]\n",
    "\n",
    "# Plot temperature trends over time\n",
    "plt.figure(figsize=(12, 6))\n",
    "sns.lineplot(data=df_temp_trend, x='last_updated', y='temperature_celsius', hue='location_name', marker='o')\n",
    "\n",
    "# Enhance visualization\n",
    "plt.title(\"Global Temperature Trends in Major Cities\", fontsize=14)\n",
    "plt.xlabel(\"Date\", fontsize=12)\n",
    "plt.ylabel(\"Temperature (°C)\", fontsize=12)\n",
    "plt.legend(title=\"City\")\n",
    "plt.xticks(rotation=45)\n",
    "plt.grid(True)\n",
    "\n",
    "# Show plot\n",
    "plt.show()\n"
   ]
  },
  {
   "cell_type": "markdown",
   "metadata": {},
   "source": [
    "## Step 4: Visualization 2 – Wind Speed vs. Humidity Scatter Plot\n"
   ]
  },
  {
   "cell_type": "code",
   "execution_count": 4,
   "metadata": {},
   "outputs": [
    {
     "data": {
      "image/png": "[encoded data removed]",
      "text/plain": [
       "<Figure size 720x432 with 2 Axes>"
      ]
     },
     "metadata": {
      "needs_background": "light"
     },
     "output_type": "display_data"
    }
   ],
   "source": [
    "# Scatter plot of Wind Speed vs. Humidity\n",
    "plt.figure(figsize=(10, 6))\n",
    "scatter = plt.scatter(df_cleaned['wind_kph'], df_cleaned['humidity'], \n",
    "                      c=df_cleaned['air_quality_us-epa-index'], cmap='coolwarm', alpha=0.6)\n",
    "\n",
    "# Add color bar for air quality\n",
    "cbar = plt.colorbar(scatter)\n",
    "cbar.set_label(\"Air Quality Index (EPA)\")\n",
    "\n",
    "# Labels and title\n",
    "plt.title(\"Wind Speed vs. Humidity (Coloured by Air Quality Index)\", fontsize=14)\n",
    "plt.xlabel(\"Wind Speed (kph)\", fontsize=12)\n",
    "plt.ylabel(\"Humidity (%)\", fontsize=12)\n",
    "plt.grid(True)\n",
    "\n",
    "# Show plot\n",
    "plt.show()\n"
   ]
  },
  {
   "cell_type": "markdown",
   "metadata": {},
   "source": [
    "## Step 5: Interactive Visualization – US Map for Air Quality"
   ]
  },
  {
   "cell_type": "code",
   "execution_count": 10,
   "metadata": {},
   "outputs": [
    {
     "data": {
      "application/vnd.plotly.v1+json": {
       "config": {
        "plotlyServerURL": "https://plot.ly"
       },
       "data": [
        {
         "geo": "geo",
         "hovertemplate": "<b>%{hovertext}</b><br><br>air_quality_PM2.5=%{marker.size}<br>latitude=%{lat}<br>longitude=%{lon}<br>air_quality_us-epa-index=%{marker.color}<extra></extra>",
         "hovertext": [
          "Washington Park",
          "Washington Park",
          "Washington Park",
          "Washington Park",
          "Washington Park",
          "Washington Park",
          "Washington Park",
          "Washington Park",
          "Washington Park",
          "Washington Park",
          "Washington Park",
          "Washington Park",
          "Washington Park",
          "Washington Park",
          "Washington Park",
          "Washington Park",
          "Washington Harbor",
          "Washington Harbor",
          "Washington Harbor",
          "Washington Harbor",
          "Washington Harbor",
          "Washington Harbor",
          "Washington Harbor",
          "Washington Harbor",
          "Washington Harbor",
          "Washington Harbor",
          "Washington Harbor",
          "Washington Harbor",
          "Washington Harbor",
          "Washington Harbor",
          "Washington Harbor",
          "Washington Harbor",
          "Washington Harbor",
          "Washington Harbor",
          "Washington Harbor",
          "Washington Harbor",
          "Washington Harbor",
          "Washington Harbor",
          "Washington Harbor",
          "Washington Harbor",
          "Washington Harbor",
          "Moroni",
          "Grenada",
          "New York",
          "Palau",
          "Washington Harbor",
          "Washington Harbor",
          "Washington Harbor",
          "Washington Harbor",
          "Washington Harbor",
          "Washington Harbor",
          "Washington Harbor",
          "Washington Harbor",
          "Washington Harbor",
          "Washington Harbor",
          "Washington Harbor",
          "Washington Harbor",
          "Washington Harbor",
          "Washington Harbor",
          "Washington Harbor",
          "Washington Harbor",
          "Washington Harbor",
          "Washington Harbor",
          "Washington Harbor",
          "Washington Harbor",
          "Washington Harbor",
          "Washington Harbor",
          "Washington Harbor",
          "Washington Harbor",
          "Washington Harbor",
          "Washington Harbor",
          "Washington Harbor",
          "Washington Harbor",
          "Washington Harbor",
          "Washington Harbor",
          "Washington Harbor",
          "Washington Harbor",
          "Washington Harbor",
          "Washington Harbor",
          "Washington Harbor",
          "Washington Harbor",
          "Washington Harbor",
          "Washington Harbor",
          "Washington Harbor",
          "Washington Harbor",
          "Washington Harbor",
          "Washington Harbor",
          "Washington Harbor",
          "Washington Harbor",
          "Washington Harbor",
          "Washington Harbor",
          "Washington Harbor",
          "Washington Harbor",
          "Washington Harbor",
          "Washington Harbor",
          "Washington Harbor",
          "Washington Harbor",
          "Washington Harbor",
          "Washington Harbor",
          "Washington Harbor",
          "Washington Harbor",
          "Washington Harbor",
          "Washington Harbor",
          "Washington Harbor",
          "Washington Harbor",
          "Washington Harbor",
          "Washington Harbor",
          "Washington Harbor",
          "Washington Harbor",
          "Washington Harbor",
          "Washington Harbor",
          "Washington Harbor",
          "Washington Harbor",
          "Washington Harbor",
          "Washington Harbor",
          "Washington Harbor",
          "Washington Harbor",
          "Washington Harbor",
          "Washington Harbor",
          "Washington Harbor",
          "Washington Harbor",
          "Washington Harbor",
          "Washington Harbor",
          "Washington Harbor",
          "Washington Harbor",
          "Washington Harbor",
          "Washington Harbor",
          "Washington Harbor",
          "Washington Harbor",
          "Washington Harbor",
          "Washington Harbor",
          "Washington Harbor",
          "Washington Harbor",
          "Washington Harbor",
          "Washington Harbor",
          "Washington Harbor",
          "Washington Harbor",
          "Washington Harbor",
          "Washington Harbor",
          "Washington Harbor",
          "Washington Harbor",
          "Washington Harbor",
          "Washington Harbor",
          "Washington Harbor",
          "Washington Harbor",
          "Washington Harbor",
          "Washington Harbor",
          "Washington Harbor",
          "Washington Harbor",
          "Washington Harbor",
          "Washington Harbor",
          "Washington Harbor",
          "Washington Harbor",
          "Washington Harbor",
          "Washington Harbor",
          "Washington Harbor",
          "Washington Harbor",
          "Washington Harbor",
          "Washington Harbor",
          "Washington Harbor",
          "Washington Harbor",
          "Washington Harbor",
          "Washington Harbor",
          "Washington Harbor",
          "Washington Harbor",
          "Washington Harbor",
          "Washington Harbor",
          "Washington Harbor",
          "Washington Harbor",
          "Washington Harbor",
          "Washington Harbor",
          "Washington Harbor",
          "Washington Harbor",
          "Washington Harbor",
          "Washington Harbor",
          "Washington Harbor",
          "Washington Harbor",
          "Washington Harbor",
          "Washington Harbor",
          "Washington Harbor",
          "Washington Harbor",
          "Washington Harbor",
          "Washington Harbor",
          "Washington Harbor",
          "Washington Harbor",
          "Washington Harbor",
          "Washington Harbor",
          "Washington Harbor",
          "Washington Harbor",
          "Washington Harbor",
          "Washington Harbor",
          "Washington Harbor",
          "Washington Harbor",
          "Washington Harbor",
          "Washington Harbor",
          "Washington Harbor",
          "Washington Harbor",
          "Washington Harbor",
          "Washington Harbor",
          "Washington Harbor",
          "Washington Harbor",
          "Washington Harbor",
          "Washington Harbor",
          "Washington Harbor",
          "Washington Harbor",
          "Washington Harbor",
          "Washington Harbor",
          "Washington Harbor",
          "Washington Harbor",
          "Washington Harbor",
          "Washington Harbor",
          "Washington Harbor",
          "Washington Harbor",
          "Washington Harbor",
          "Washington Harbor",
          "Washington Harbor",
          "Washington Harbor",
          "Washington Harbor",
          "Washington Harbor",
          "Washington Harbor",
          "Washington Harbor",
          "Washington Harbor",
          "Washington Harbor",
          "Washington Harbor",
          "Washington Harbor",
          "Washington Harbor",
          "Washington Harbor",
          "Washington Harbor",
          "Washington Harbor",
          "Washington Harbor",
          "Washington Harbor",
          "Washington Harbor",
          "Washington Harbor",
          "Washington Harbor",
          "Washington Harbor",
          "Washington Harbor",
          "Washington Harbor",
          "Washington Harbor",
          "Washington Harbor",
          "Washington Harbor",
          "Washington Harbor",
          "Washington Harbor",
          "Washington Harbor",
          "Washington Harbor",
          "Washington Harbor",
          "Washington Harbor",
          "Washington Harbor",
          "Washington Harbor",
          "Washington Harbor",
          "Washington Harbor",
          "Washington Harbor",
          "Washington Harbor",
          "Washington Harbor",
          "Washington Harbor",
          "Washington Harbor",
          "Washington Harbor",
          "Washington Harbor",
          "Washington Harbor",
          "Washington Harbor",
          "Washington Harbor",
          "Washington Harbor",
          "Washington Harbor",
          "Washington Harbor",
          "Washington Harbor",
          "Washington Harbor",
          "Washington Harbor",
          "Washington Harbor",
          "Washington Harbor",
          "Washington Harbor",
          "Washington Harbor",
          "Washington Harbor",
          "Washington Harbor",
          "Washington Harbor",
          "Washington Harbor",
          "Washington Harbor",
          "Washington Harbor",
          "Washington Harbor",
          "Washington Harbor",
          "Washington Harbor",
          "Washington Harbor",
          "Washington Harbor",
          "Washington Harbor",
          "Washington Harbor",
          "Washington Harbor",
          "Washington Harbor",
          "Washington Harbor",
          "Washington Harbor",
          "Washington Harbor",
          "Washington Harbor",
          "Washington Harbor",
          "Washington Harbor",
          "Washington Harbor"
         ],
         "lat": [
          46.6,
          46.6,
          46.6,
          46.6,
          46.6,
          46.6,
          46.6,
          46.6,
          46.6,
          46.6,
          46.6,
          46.6,
          46.6,
          46.6,
          46.6,
          46.6,
          48.08,
          48.08,
          48.08,
          48.08,
          48.08,
          48.08,
          48.08,
          48.08,
          48.08,
          48.08,
          48.08,
          48.08,
          48.08,
          48.08,
          48.08,
          48.08,
          48.08,
          48.08,
          48.08,
          48.08,
          48.08,
          48.08,
          48.08,
          48.08,
          48.08,
          39.53,
          33.78,
          40.71,
          7.5,
          48.08,
          48.08,
          48.08,
          48.08,
          48.08,
          48.08,
          48.08,
          48.08,
          48.08,
          48.08,
          48.08,
          48.08,
          48.08,
          48.08,
          48.08,
          48.08,
          48.08,
          48.08,
          48.08,
          48.08,
          48.08,
          48.08,
          48.08,
          48.08,
          48.08,
          48.08,
          48.08,
          48.08,
          48.08,
          48.08,
          48.08,
          48.08,
          48.08,
          48.08,
          48.08,
          48.08,
          48.08,
          48.08,
          48.08,
          48.08,
          48.08,
          48.08,
          48.08,
          48.08,
          48.08,
          48.08,
          48.08,
          48.08,
          48.08,
          48.08,
          48.08,
          48.08,
          48.08,
          48.08,
          48.08,
          48.08,
          48.08,
          48.08,
          48.08,
          48.08,
          48.08,
          48.08,
          48.08,
          48.08,
          48.08,
          48.08,
          48.08,
          48.08,
          48.08,
          48.08,
          48.08,
          48.08,
          48.08,
          48.08,
          48.08,
          48.08,
          48.08,
          48.08,
          48.08,
          48.08,
          48.08,
          48.08,
          48.08,
          48.08,
          48.08,
          48.08,
          48.08,
          48.08,
          48.08,
          48.08,
          48.08,
          48.08,
          48.08,
          48.08,
          48.08,
          48.0792,
          48.0792,
          48.0792,
          48.0792,
          48.0792,
          48.0792,
          48.0792,
          48.0792,
          48.0792,
          48.0792,
          48.0792,
          48.0792,
          48.0792,
          48.0792,
          48.0792,
          48.0792,
          48.0792,
          48.0792,
          48.0792,
          48.0792,
          48.0792,
          48.0792,
          48.0792,
          48.0792,
          48.0792,
          48.0792,
          48.0792,
          48.0792,
          48.0792,
          48.0792,
          48.0792,
          48.0792,
          48.0792,
          48.0792,
          48.0792,
          48.0792,
          48.0792,
          48.0792,
          48.0792,
          48.0792,
          48.0792,
          48.0792,
          48.0792,
          48.0792,
          48.0792,
          48.0792,
          48.0792,
          48.0792,
          48.0792,
          48.0792,
          48.0792,
          48.0792,
          48.0792,
          48.0792,
          48.0792,
          48.0792,
          48.0792,
          48.0792,
          48.0792,
          48.0792,
          48.0792,
          48.0792,
          48.0792,
          48.0792,
          48.0792,
          48.0792,
          48.0792,
          48.0792,
          48.0792,
          48.0792,
          48.0792,
          48.0792,
          48.0792,
          48.0792,
          48.0792,
          48.0792,
          48.0792,
          48.0792,
          48.0792,
          48.0792,
          48.0792,
          48.0792,
          48.0792,
          48.0792,
          48.0792,
          48.0792,
          48.0792,
          48.0792,
          48.0792,
          48.0792,
          48.0792,
          48.0792,
          48.0792,
          48.0792,
          48.0792,
          48.0792,
          48.0792,
          48.0792,
          48.0792,
          48.0792,
          48.0792,
          48.0792,
          48.0792,
          48.0792,
          48.0792,
          48.0792,
          48.0792,
          48.0792,
          48.0792,
          48.0792,
          48.0792,
          48.0792,
          48.0792,
          48.0792,
          48.0792,
          48.0792,
          48.0792,
          48.0792,
          48.0792,
          48.0792,
          48.0792,
          48.0792,
          48.0792,
          48.0792,
          48.0792,
          48.0792,
          48.0792,
          48.0792,
          48.0792,
          48.0792,
          48.0792,
          48.0792,
          48.0792,
          48.0792,
          48.0792,
          48.0792,
          48.0792,
          48.0792,
          48.0792,
          48.0792,
          48.0792,
          48.0792,
          48.0792,
          48.0792,
          48.0792,
          48.0792,
          48.0792,
          48.0792,
          48.0792,
          48.0792,
          48.0792,
          48.0792
         ],
         "legendgroup": "",
         "lon": [
          -120.49,
          -120.49,
          -120.49,
          -120.49,
          -120.49,
          -120.49,
          -120.49,
          -120.49,
          -120.49,
          -120.49,
          -120.49,
          -120.49,
          -120.49,
          -120.49,
          -120.49,
          -120.49,
          -123.04,
          -123.04,
          -123.04,
          -123.04,
          -123.04,
          -123.04,
          -123.04,
          -123.04,
          -123.04,
          -123.04,
          -123.04,
          -123.04,
          -123.04,
          -123.04,
          -123.04,
          -123.04,
          -123.04,
          -123.04,
          -123.04,
          -123.04,
          -123.04,
          -123.04,
          -123.04,
          -123.04,
          -123.04,
          -111.59,
          -89.81,
          -74.01,
          134.57,
          -123.04,
          -123.04,
          -123.04,
          -123.04,
          -123.04,
          -123.04,
          -123.04,
          -123.04,
          -123.04,
          -123.04,
          -123.04,
          -123.04,
          -123.04,
          -123.04,
          -123.04,
          -123.04,
          -123.04,
          -123.04,
          -123.04,
          -123.04,
          -123.04,
          -123.04,
          -123.04,
          -123.04,
          -123.04,
          -123.04,
          -123.04,
          -123.04,
          -123.04,
          -123.04,
          -123.04,
          -123.04,
          -123.04,
          -123.04,
          -123.04,
          -123.04,
          -123.04,
          -123.04,
          -123.04,
          -123.04,
          -123.04,
          -123.04,
          -123.04,
          -123.04,
          -123.04,
          -123.04,
          -123.04,
          -123.04,
          -123.04,
          -123.04,
          -123.04,
          -123.04,
          -123.04,
          -123.04,
          -123.04,
          -123.04,
          -123.04,
          -123.04,
          -123.04,
          -123.04,
          -123.04,
          -123.04,
          -123.04,
          -123.04,
          -123.04,
          -123.04,
          -123.04,
          -123.04,
          -123.04,
          -123.04,
          -123.04,
          -123.04,
          -123.04,
          -123.04,
          -123.04,
          -123.04,
          -123.04,
          -123.04,
          -123.04,
          -123.04,
          -123.04,
          -123.04,
          -123.04,
          -123.04,
          -123.04,
          -123.04,
          -123.04,
          -123.04,
          -123.04,
          -123.04,
          -123.04,
          -123.04,
          -123.04,
          -123.04,
          -123.04,
          -123.0439,
          -123.0439,
          -123.0439,
          -123.0439,
          -123.0439,
          -123.0439,
          -123.0439,
          -123.0439,
          -123.0439,
          -123.0439,
          -123.0439,
          -123.0439,
          -123.0439,
          -123.0439,
          -123.0439,
          -123.0439,
          -123.0439,
          -123.0439,
          -123.0439,
          -123.0439,
          -123.0439,
          -123.0439,
          -123.0439,
          -123.0439,
          -123.0439,
          -123.0439,
          -123.0439,
          -123.0439,
          -123.0439,
          -123.0439,
          -123.0439,
          -123.0439,
          -123.0439,
          -123.0439,
          -123.0439,
          -123.0439,
          -123.0439,
          -123.0439,
          -123.0439,
          -123.0439,
          -123.0439,
          -123.0439,
          -123.0439,
          -123.0439,
          -123.0439,
          -123.0439,
          -123.0439,
          -123.0439,
          -123.0439,
          -123.0439,
          -123.0439,
          -123.0439,
          -123.0439,
          -123.0439,
          -123.0439,
          -123.0439,
          -123.0439,
          -123.0439,
          -123.0439,
          -123.0439,
          -123.0439,
          -123.0439,
          -123.0439,
          -123.0439,
          -123.0439,
          -123.0439,
          -123.0439,
          -123.0439,
          -123.0439,
          -123.0439,
          -123.0439,
          -123.0439,
          -123.0439,
          -123.0439,
          -123.0439,
          -123.0439,
          -123.0439,
          -123.0439,
          -123.0439,
          -123.0439,
          -123.0439,
          -123.0439,
          -123.0439,
          -123.0439,
          -123.0439,
          -123.0439,
          -123.0439,
          -123.0439,
          -123.0439,
          -123.0439,
          -123.0439,
          -123.0439,
          -123.0439,
          -123.0439,
          -123.0439,
          -123.0439,
          -123.0439,
          -123.0439,
          -123.0439,
          -123.0439,
          -123.0439,
          -123.0439,
          -123.0439,
          -123.0439,
          -123.0439,
          -123.0439,
          -123.0439,
          -123.0439,
          -123.0439,
          -123.0439,
          -123.0439,
          -123.0439,
          -123.0439,
          -123.0439,
          -123.0439,
          -123.0439,
          -123.0439,
          -123.0439,
          -123.0439,
          -123.0439,
          -123.0439,
          -123.0439,
          -123.0439,
          -123.0439,
          -123.0439,
          -123.0439,
          -123.0439,
          -123.0439,
          -123.0439,
          -123.0439,
          -123.0439,
          -123.0439,
          -123.0439,
          -123.0439,
          -123.0439,
          -123.0439,
          -123.0439,
          -123.0439,
          -123.0439,
          -123.0439,
          -123.0439,
          -123.0439,
          -123.0439,
          -123.0439,
          -123.0439,
          -123.0439,
          -123.0439,
          -123.0439,
          -123.0439,
          -123.0439,
          -123.0439,
          -123.0439
         ],
         "marker": {
          "color": [
           1,
           1,
           1,
           1,
           1,
           1,
           1,
           1,
           1,
           1,
           1,
           1,
           1,
           1,
           1,
           1,
           1,
           1,
           1,
           1,
           1,
           1,
           1,
           1,
           1,
           1,
           1,
           1,
           1,
           1,
           1,
           1,
           1,
           1,
           1,
           1,
           1,
           1,
           1,
           1,
           1,
           1,
           1,
           1,
           1,
           1,
           1,
           1,
           1,
           1,
           1,
           1,
           1,
           1,
           1,
           1,
           1,
           1,
           1,
           1,
           1,
           1,
           1,
           1,
           1,
           1,
           1,
           1,
           1,
           1,
           1,
           1,
           1,
           1,
           1,
           1,
           1,
           1,
           1,
           1,
           1,
           1,
           1,
           1,
           1,
           1,
           1,
           1,
           1,
           1,
           1,
           1,
           1,
           1,
           1,
           1,
           1,
           1,
           1,
           1,
           1,
           1,
           1,
           1,
           1,
           1,
           1,
           1,
           1,
           1,
           1,
           1,
           1,
           2,
           1,
           2,
           1,
           1,
           1,
           1,
           1,
           1,
           1,
           1,
           1,
           1,
           1,
           1,
           1,
           1,
           1,
           1,
           1,
           1,
           1,
           1,
           1,
           1,
           1,
           1,
           1,
           1,
           1,
           1,
           1,
           1,
           1,
           1,
           1,
           1,
           1,
           1,
           1,
           1,
           1,
           1,
           1,
           1,
           1,
           1,
           1,
           1,
           1,
           1,
           1,
           1,
           1,
           1,
           1,
           1,
           1,
           1,
           1,
           1,
           1,
           1,
           1,
           1,
           1,
           1,
           1,
           1,
           1,
           1,
           1,
           1,
           1,
           1,
           1,
           1,
           1,
           1,
           1,
           1,
           2,
           1,
           1,
           1,
           1,
           1,
           1,
           1,
           1,
           1,
           1,
           1,
           1,
           1,
           1,
           1,
           1,
           1,
           1,
           1,
           1,
           1,
           1,
           1,
           1,
           1,
           1,
           1,
           1,
           1,
           1,
           1,
           1,
           1,
           1,
           1,
           1,
           1,
           1,
           2,
           1,
           1,
           1,
           1,
           1,
           1,
           1,
           1,
           1,
           1,
           1,
           1,
           1,
           1,
           1,
           1,
           1,
           2,
           1,
           1,
           1,
           1,
           1,
           1,
           1,
           1,
           1,
           1,
           1,
           1,
           1,
           1,
           1,
           1,
           1,
           1,
           1,
           1,
           1,
           1,
           1,
           1,
           1,
           1,
           1,
           1,
           1,
           1,
           1,
           1,
           1,
           1,
           2,
           1,
           1,
           1,
           1,
           1
          ],
          "coloraxis": "coloraxis",
          "size": [
           6.3,
           7.8,
           0.5,
           0.9,
           0.5,
           0.9,
           1.3,
           1.3,
           1,
           2.6,
           0.5,
           1,
           1.4,
           1.4,
           0.5,
           0.5,
           0.9,
           0.8,
           1,
           0.8,
           0.5,
           1.5,
           1.5,
           4.1,
           8.9,
           4,
           3,
           1.5,
           1.1,
           2.5,
           2.3,
           0.5,
           0.5,
           1.3,
           0.8,
           2.5,
           6.3,
           5.1,
           3.3,
           0.8,
           1.3,
           4.8,
           6.1,
           1.1,
           0.5,
           1.7,
           0.5,
           1,
           1.7,
           0.6,
           0.8,
           2.2,
           2.8,
           7,
           10.6,
           5.3,
           9.6,
           7.6,
           9.1,
           5.7,
           3.6,
           3.3,
           5.5,
           3.5,
           3.4,
           6.4,
           1.3,
           0.7,
           2.5,
           1,
           0.8,
           2.4,
           3.6,
           2.2,
           1.6,
           1.3,
           2.6,
           6.2,
           11.7,
           6.3,
           4.9,
           6.4,
           5.3,
           6.3,
           7.8,
           12.3,
           7,
           5.5,
           4.5,
           4.2,
           3.7,
           3.8,
           3.9,
           1.8,
           14.4,
           1.5,
           6.7,
           0.9,
           3.5,
           2.1,
           0.6,
           1.4,
           3,
           0.9,
           1.5,
           7.5,
           8.9,
           5.3,
           7.7,
           7.7,
           2.1,
           10.8,
           6.8,
           19.795,
           13.875,
           22.755,
           6.845,
           12.58,
           2.59,
           5.18,
           8.51,
           4.81,
           4.07,
           4.07,
           10.36,
           4.255,
           8.88,
           5.365,
           3.515,
           7.585,
           9.62,
           5.18,
           2.59,
           5.735,
           7.585,
           5.18,
           3.33,
           4.255,
           4.07,
           4.81,
           5.92,
           2.59,
           4.07,
           3.145,
           4.07,
           1.85,
           3.885,
           3.7,
           3.885,
           7.03,
           4.07,
           2.96,
           2.035,
           2.59,
           2.96,
           5.18,
           0.925,
           4.625,
           4.07,
           5.365,
           7.585,
           5.18,
           4.995,
           2.59,
           2.775,
           3.515,
           3.33,
           2.405,
           11.1,
           4.07,
           0.74,
           5.365,
           4.07,
           6.845,
           3.7,
           4.625,
           8.51,
           4.07,
           2.59,
           1.11,
           2.035,
           4.81,
           9.62,
           1.665,
           2.22,
           2.59,
           1.11,
           5.18,
           2.035,
           2.96,
           1.11,
           9.065,
           12.58,
           11.47,
           16.835,
           12.58,
           6.29,
           7.77,
           7.4,
           8.51,
           6.475,
           7.77,
           9.065,
           0.74,
           2.035,
           11.1,
           6.845,
           6.66,
           12.95,
           8.695,
           0.37,
           1.48,
           2.59,
           10.175,
           1.665,
           5.18,
           8.88,
           13.69,
           4.07,
           5.92,
           6.105,
           1.665,
           4.07,
           3.7,
           1.295,
           5.92,
           1.85,
           3.7,
           8.14,
           8.51,
           7.03,
           4.81,
           3.885,
           17.76,
           7.4,
           13.135,
           2.22,
           2.405,
           9.25,
           5.92,
           7.585,
           7.4,
           7.585,
           9.065,
           15.355,
           11.47,
           6.29,
           6.105,
           10.73,
           8.88,
           11.84,
           17.205,
           6.29,
           8.88,
           7.4,
           3.885,
           6.845,
           0.74,
           2.96,
           1.295,
           4.625,
           5.735,
           5.92,
           12.95,
           10.73,
           15.355,
           3.515,
           6.66,
           9.065,
           8.325,
           8.14,
           7.955,
           4.81,
           3.145,
           2.96,
           6.105,
           4.07,
           6.845,
           7.955,
           3.885,
           2.775,
           11.285,
           0.925,
           9.065,
           7.03,
           14.245,
           16.095,
           4.255,
           4.44,
           6.475,
           3.145,
           6.66
          ],
          "sizemode": "area",
          "sizeref": 0.0568875,
          "symbol": "circle"
         },
         "mode": "markers",
         "name": "",
         "showlegend": false,
         "type": "scattergeo"
        }
       ],
       "layout": {
        "coloraxis": {
         "colorbar": {
          "title": {
           "text": "air_quality_us-epa-index"
          }
         },
         "colorscale": [
          [
           0,
           "#440154"
          ],
          [
           0.1111111111111111,
           "#482878"
          ],
          [
           0.2222222222222222,
           "#3e4989"
          ],
          [
           0.3333333333333333,
           "#31688e"
          ],
          [
           0.4444444444444444,
           "#26828e"
          ],
          [
           0.5555555555555556,
           "#1f9e89"
          ],
          [
           0.6666666666666666,
           "#35b779"
          ],
          [
           0.7777777777777778,
           "#6ece58"
          ],
          [
           0.8888888888888888,
           "#b5de2b"
          ],
          [
           1,
           "#fde725"
          ]
         ]
        },
        "geo": {
         "center": {},
         "domain": {
          "x": [
           0,
           1
          ],
          "y": [
           0,
           1
          ]
         },
         "scope": "usa"
        },
        "legend": {
         "itemsizing": "constant",
         "tracegroupgap": 0
        },
        "template": {
         "data": {
          "bar": [
           {
            "error_x": {
             "color": "#2a3f5f"
            },
            "error_y": {
             "color": "#2a3f5f"
            },
            "marker": {
             "line": {
              "color": "#E5ECF6",
              "width": 0.5
             },
             "pattern": {
              "fillmode": "overlay",
              "size": 10,
              "solidity": 0.2
             }
            },
            "type": "bar"
           }
          ],
          "barpolar": [
           {
            "marker": {
             "line": {
              "color": "#E5ECF6",
              "width": 0.5
             },
             "pattern": {
              "fillmode": "overlay",
              "size": 10,
              "solidity": 0.2
             }
            },
            "type": "barpolar"
           }
          ],
          "carpet": [
           {
            "aaxis": {
             "endlinecolor": "#2a3f5f",
             "gridcolor": "white",
             "linecolor": "white",
             "minorgridcolor": "white",
             "startlinecolor": "#2a3f5f"
            },
            "baxis": {
             "endlinecolor": "#2a3f5f",
             "gridcolor": "white",
             "linecolor": "white",
             "minorgridcolor": "white",
             "startlinecolor": "#2a3f5f"
            },
            "type": "carpet"
           }
          ],
          "choropleth": [
           {
            "colorbar": {
             "outlinewidth": 0,
             "ticks": ""
            },
            "type": "choropleth"
           }
          ],
          "contour": [
           {
            "colorbar": {
             "outlinewidth": 0,
             "ticks": ""
            },
            "colorscale": [
             [
              0,
              "#0d0887"
             ],
             [
              0.1111111111111111,
              "#46039f"
             ],
             [
              0.2222222222222222,
              "#7201a8"
             ],
             [
              0.3333333333333333,
              "#9c179e"
             ],
             [
              0.4444444444444444,
              "#bd3786"
             ],
             [
              0.5555555555555556,
              "#d8576b"
             ],
             [
              0.6666666666666666,
              "#ed7953"
             ],
             [
              0.7777777777777778,
              "#fb9f3a"
             ],
             [
              0.8888888888888888,
              "#fdca26"
             ],
             [
              1,
              "#f0f921"
             ]
            ],
            "type": "contour"
           }
          ],
          "contourcarpet": [
           {
            "colorbar": {
             "outlinewidth": 0,
             "ticks": ""
            },
            "type": "contourcarpet"
           }
          ],
          "heatmap": [
           {
            "colorbar": {
             "outlinewidth": 0,
             "ticks": ""
            },
            "colorscale": [
             [
              0,
              "#0d0887"
             ],
             [
              0.1111111111111111,
              "#46039f"
             ],
             [
              0.2222222222222222,
              "#7201a8"
             ],
             [
              0.3333333333333333,
              "#9c179e"
             ],
             [
              0.4444444444444444,
              "#bd3786"
             ],
             [
              0.5555555555555556,
              "#d8576b"
             ],
             [
              0.6666666666666666,
              "#ed7953"
             ],
             [
              0.7777777777777778,
              "#fb9f3a"
             ],
             [
              0.8888888888888888,
              "#fdca26"
             ],
             [
              1,
              "#f0f921"
             ]
            ],
            "type": "heatmap"
           }
          ],
          "heatmapgl": [
           {
            "colorbar": {
             "outlinewidth": 0,
             "ticks": ""
            },
            "colorscale": [
             [
              0,
              "#0d0887"
             ],
             [
              0.1111111111111111,
              "#46039f"
             ],
             [
              0.2222222222222222,
              "#7201a8"
             ],
             [
              0.3333333333333333,
              "#9c179e"
             ],
             [
              0.4444444444444444,
              "#bd3786"
             ],
             [
              0.5555555555555556,
              "#d8576b"
             ],
             [
              0.6666666666666666,
              "#ed7953"
             ],
             [
              0.7777777777777778,
              "#fb9f3a"
             ],
             [
              0.8888888888888888,
              "#fdca26"
             ],
             [
              1,
              "#f0f921"
             ]
            ],
            "type": "heatmapgl"
           }
          ],
          "histogram": [
           {
            "marker": {
             "pattern": {
              "fillmode": "overlay",
              "size": 10,
              "solidity": 0.2
             }
            },
            "type": "histogram"
           }
          ],
          "histogram2d": [
           {
            "colorbar": {
             "outlinewidth": 0,
             "ticks": ""
            },
            "colorscale": [
             [
              0,
              "#0d0887"
             ],
             [
              0.1111111111111111,
              "#46039f"
             ],
             [
              0.2222222222222222,
              "#7201a8"
             ],
             [
              0.3333333333333333,
              "#9c179e"
             ],
             [
              0.4444444444444444,
              "#bd3786"
             ],
             [
              0.5555555555555556,
              "#d8576b"
             ],
             [
              0.6666666666666666,
              "#ed7953"
             ],
             [
              0.7777777777777778,
              "#fb9f3a"
             ],
             [
              0.8888888888888888,
              "#fdca26"
             ],
             [
              1,
              "#f0f921"
             ]
            ],
            "type": "histogram2d"
           }
          ],
          "histogram2dcontour": [
           {
            "colorbar": {
             "outlinewidth": 0,
             "ticks": ""
            },
            "colorscale": [
             [
              0,
              "#0d0887"
             ],
             [
              0.1111111111111111,
              "#46039f"
             ],
             [
              0.2222222222222222,
              "#7201a8"
             ],
             [
              0.3333333333333333,
              "#9c179e"
             ],
             [
              0.4444444444444444,
              "#bd3786"
             ],
             [
              0.5555555555555556,
              "#d8576b"
             ],
             [
              0.6666666666666666,
              "#ed7953"
             ],
             [
              0.7777777777777778,
              "#fb9f3a"
             ],
             [
              0.8888888888888888,
              "#fdca26"
             ],
             [
              1,
              "#f0f921"
             ]
            ],
            "type": "histogram2dcontour"
           }
          ],
          "mesh3d": [
           {
            "colorbar": {
             "outlinewidth": 0,
             "ticks": ""
            },
            "type": "mesh3d"
           }
          ],
          "parcoords": [
           {
            "line": {
             "colorbar": {
              "outlinewidth": 0,
              "ticks": ""
             }
            },
            "type": "parcoords"
           }
          ],
          "pie": [
           {
            "automargin": true,
            "type": "pie"
           }
          ],
          "scatter": [
           {
            "marker": {
             "colorbar": {
              "outlinewidth": 0,
              "ticks": ""
             }
            },
            "type": "scatter"
           }
          ],
          "scatter3d": [
           {
            "line": {
             "colorbar": {
              "outlinewidth": 0,
              "ticks": ""
             }
            },
            "marker": {
             "colorbar": {
              "outlinewidth": 0,
              "ticks": ""
             }
            },
            "type": "scatter3d"
           }
          ],
          "scattercarpet": [
           {
            "marker": {
             "colorbar": {
              "outlinewidth": 0,
              "ticks": ""
             }
            },
            "type": "scattercarpet"
           }
          ],
          "scattergeo": [
           {
            "marker": {
             "colorbar": {
              "outlinewidth": 0,
              "ticks": ""
             }
            },
            "type": "scattergeo"
           }
          ],
          "scattergl": [
           {
            "marker": {
             "colorbar": {
              "outlinewidth": 0,
              "ticks": ""
             }
            },
            "type": "scattergl"
           }
          ],
          "scattermapbox": [
           {
            "marker": {
             "colorbar": {
              "outlinewidth": 0,
              "ticks": ""
             }
            },
            "type": "scattermapbox"
           }
          ],
          "scatterpolar": [
           {
            "marker": {
             "colorbar": {
              "outlinewidth": 0,
              "ticks": ""
             }
            },
            "type": "scatterpolar"
           }
          ],
          "scatterpolargl": [
           {
            "marker": {
             "colorbar": {
              "outlinewidth": 0,
              "ticks": ""
             }
            },
            "type": "scatterpolargl"
           }
          ],
          "scatterternary": [
           {
            "marker": {
             "colorbar": {
              "outlinewidth": 0,
              "ticks": ""
             }
            },
            "type": "scatterternary"
           }
          ],
          "surface": [
           {
            "colorbar": {
             "outlinewidth": 0,
             "ticks": ""
            },
            "colorscale": [
             [
              0,
              "#0d0887"
             ],
             [
              0.1111111111111111,
              "#46039f"
             ],
             [
              0.2222222222222222,
              "#7201a8"
             ],
             [
              0.3333333333333333,
              "#9c179e"
             ],
             [
              0.4444444444444444,
              "#bd3786"
             ],
             [
              0.5555555555555556,
              "#d8576b"
             ],
             [
              0.6666666666666666,
              "#ed7953"
             ],
             [
              0.7777777777777778,
              "#fb9f3a"
             ],
             [
              0.8888888888888888,
              "#fdca26"
             ],
             [
              1,
              "#f0f921"
             ]
            ],
            "type": "surface"
           }
          ],
          "table": [
           {
            "cells": {
             "fill": {
              "color": "#EBF0F8"
             },
             "line": {
              "color": "white"
             }
            },
            "header": {
             "fill": {
              "color": "#C8D4E3"
             },
             "line": {
              "color": "white"
             }
            },
            "type": "table"
           }
          ]
         },
         "layout": {
          "annotationdefaults": {
           "arrowcolor": "#2a3f5f",
           "arrowhead": 0,
           "arrowwidth": 1
          },
          "autotypenumbers": "strict",
          "coloraxis": {
           "colorbar": {
            "outlinewidth": 0,
            "ticks": ""
           }
          },
          "colorscale": {
           "diverging": [
            [
             0,
             "#8e0152"
            ],
            [
             0.1,
             "#c51b7d"
            ],
            [
             0.2,
             "#de77ae"
            ],
            [
             0.3,
             "#f1b6da"
            ],
            [
             0.4,
             "#fde0ef"
            ],
            [
             0.5,
             "#f7f7f7"
            ],
            [
             0.6,
             "#e6f5d0"
            ],
            [
             0.7,
             "#b8e186"
            ],
            [
             0.8,
             "#7fbc41"
            ],
            [
             0.9,
             "#4d9221"
            ],
            [
             1,
             "#276419"
            ]
           ],
           "sequential": [
            [
             0,
             "#0d0887"
            ],
            [
             0.1111111111111111,
             "#46039f"
            ],
            [
             0.2222222222222222,
             "#7201a8"
            ],
            [
             0.3333333333333333,
             "#9c179e"
            ],
            [
             0.4444444444444444,
             "#bd3786"
            ],
            [
             0.5555555555555556,
             "#d8576b"
            ],
            [
             0.6666666666666666,
             "#ed7953"
            ],
            [
             0.7777777777777778,
             "#fb9f3a"
            ],
            [
             0.8888888888888888,
             "#fdca26"
            ],
            [
             1,
             "#f0f921"
            ]
           ],
           "sequentialminus": [
            [
             0,
             "#0d0887"
            ],
            [
             0.1111111111111111,
             "#46039f"
            ],
            [
             0.2222222222222222,
             "#7201a8"
            ],
            [
             0.3333333333333333,
             "#9c179e"
            ],
            [
             0.4444444444444444,
             "#bd3786"
            ],
            [
             0.5555555555555556,
             "#d8576b"
            ],
            [
             0.6666666666666666,
             "#ed7953"
            ],
            [
             0.7777777777777778,
             "#fb9f3a"
            ],
            [
             0.8888888888888888,
             "#fdca26"
            ],
            [
             1,
             "#f0f921"
            ]
           ]
          },
          "colorway": [
           "#636efa",
           "#EF553B",
           "#00cc96",
           "#ab63fa",
           "#FFA15A",
           "#19d3f3",
           "#FF6692",
           "#B6E880",
           "#FF97FF",
           "#FECB52"
          ],
          "font": {
           "color": "#2a3f5f"
          },
          "geo": {
           "bgcolor": "white",
           "lakecolor": "white",
           "landcolor": "#E5ECF6",
           "showlakes": true,
           "showland": true,
           "subunitcolor": "white"
          },
          "hoverlabel": {
           "align": "left"
          },
          "hovermode": "closest",
          "mapbox": {
           "style": "light"
          },
          "paper_bgcolor": "white",
          "plot_bgcolor": "#E5ECF6",
          "polar": {
           "angularaxis": {
            "gridcolor": "white",
            "linecolor": "white",
            "ticks": ""
           },
           "bgcolor": "#E5ECF6",
           "radialaxis": {
            "gridcolor": "white",
            "linecolor": "white",
            "ticks": ""
           }
          },
          "scene": {
           "xaxis": {
            "backgroundcolor": "#E5ECF6",
            "gridcolor": "white",
            "gridwidth": 2,
            "linecolor": "white",
            "showbackground": true,
            "ticks": "",
            "zerolinecolor": "white"
           },
           "yaxis": {
            "backgroundcolor": "#E5ECF6",
            "gridcolor": "white",
            "gridwidth": 2,
            "linecolor": "white",
            "showbackground": true,
            "ticks": "",
            "zerolinecolor": "white"
           },
           "zaxis": {
            "backgroundcolor": "#E5ECF6",
            "gridcolor": "white",
            "gridwidth": 2,
            "linecolor": "white",
            "showbackground": true,
            "ticks": "",
            "zerolinecolor": "white"
           }
          },
          "shapedefaults": {
           "line": {
            "color": "#2a3f5f"
           }
          },
          "ternary": {
           "aaxis": {
            "gridcolor": "white",
            "linecolor": "white",
            "ticks": ""
           },
           "baxis": {
            "gridcolor": "white",
            "linecolor": "white",
            "ticks": ""
           },
           "bgcolor": "#E5ECF6",
           "caxis": {
            "gridcolor": "white",
            "linecolor": "white",
            "ticks": ""
           }
          },
          "title": {
           "x": 0.05
          },
          "xaxis": {
           "automargin": true,
           "gridcolor": "white",
           "linecolor": "white",
           "ticks": "",
           "title": {
            "standoff": 15
           },
           "zerolinecolor": "white",
           "zerolinewidth": 2
          },
          "yaxis": {
           "automargin": true,
           "gridcolor": "white",
           "linecolor": "white",
           "ticks": "",
           "title": {
            "standoff": 15
           },
           "zerolinecolor": "white",
           "zerolinewidth": 2
          }
         }
        },
        "title": {
         "text": "US Air Quality Index (EPA)"
        }
       }
      }
     },
     "metadata": {},
     "output_type": "display_data"
    }
   ],
   "source": [
    "import plotly.express as px\n",
    "\n",
    "# Filter dataset to include only US air quality records\n",
    "df_us = df_cleaned[df_cleaned['country'].isin(['United States of America', 'USA United States of America'])]\n",
    "\n",
    "# Create an interactive map for US air quality only\n",
    "fig = px.scatter_geo(df_us,\n",
    "                     lat='latitude', lon='longitude',\n",
    "                     color='air_quality_us-epa-index',\n",
    "                     size='air_quality_PM2.5',\n",
    "                     hover_name='location_name',\n",
    "                     title=\"US Air Quality Index (EPA)\",\n",
    "                     color_continuous_scale=\"Viridis\",\n",
    "                     scope=\"usa\")  # Focus map on the United States\n",
    "\n",
    "# Show interactive plot\n",
    "fig.show()"
   ]
  },
  {
   "cell_type": "code",
   "execution_count": null,
   "metadata": {},
   "outputs": [],
   "source": []
  }
 ],
 "metadata": {
  "kernelspec": {
   "display_name": "base",
   "language": "python",
   "name": "python3"
  },
  "language_info": {
   "codemirror_mode": {
    "name": "ipython",
    "version": 3
   },
   "file_extension": ".py",
   "mimetype": "text/x-python",
   "name": "python",
   "nbconvert_exporter": "python",
   "pygments_lexer": "ipython3",
   "version": "3.9.12"
  }
 },
 "nbformat": 4,
 "nbformat_minor": 2
}
